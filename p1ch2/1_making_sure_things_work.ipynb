{
 "cells": [
  {
   "cell_type": "code",
   "execution_count": 1,
   "metadata": {
    "ExecuteTime": {
     "end_time": "2023-06-11T14:21:28.012621400Z",
     "start_time": "2023-06-11T14:21:27.703170800Z"
    }
   },
   "outputs": [],
   "source": [
    "import torch\n"
   ]
  },
  {
   "cell_type": "code",
   "execution_count": 2,
   "metadata": {
    "ExecuteTime": {
     "end_time": "2023-06-11T14:21:29.184347900Z",
     "start_time": "2023-06-11T14:21:29.171428300Z"
    }
   },
   "outputs": [
    {
     "data": {
      "text/plain": "'1.5.1'"
     },
     "execution_count": 2,
     "metadata": {},
     "output_type": "execute_result"
    }
   ],
   "source": [
    "torch.version.__version__"
   ]
  },
  {
   "cell_type": "code",
   "execution_count": 3,
   "metadata": {
    "ExecuteTime": {
     "end_time": "2023-06-11T14:21:31.092344400Z",
     "start_time": "2023-06-11T14:21:31.078238400Z"
    }
   },
   "outputs": [
    {
     "data": {
      "text/plain": "True"
     },
     "execution_count": 3,
     "metadata": {},
     "output_type": "execute_result"
    }
   ],
   "source": [
    "torch.cuda.is_available()"
   ]
  },
  {
   "cell_type": "code",
   "execution_count": 4,
   "metadata": {
    "ExecuteTime": {
     "end_time": "2023-06-11T14:21:31.937349400Z",
     "start_time": "2023-06-11T14:21:31.926215600Z"
    }
   },
   "outputs": [],
   "source": [
    "a = torch.ones(3,3)"
   ]
  },
  {
   "cell_type": "code",
   "execution_count": 5,
   "metadata": {
    "ExecuteTime": {
     "end_time": "2023-06-11T14:21:32.571645700Z",
     "start_time": "2023-06-11T14:21:32.558092300Z"
    }
   },
   "outputs": [],
   "source": [
    "b = torch.ones(3,3)"
   ]
  },
  {
   "cell_type": "code",
   "execution_count": 6,
   "metadata": {
    "ExecuteTime": {
     "end_time": "2023-06-11T14:21:33.105270700Z",
     "start_time": "2023-06-11T14:21:33.086989900Z"
    }
   },
   "outputs": [
    {
     "data": {
      "text/plain": "tensor([[2., 2., 2.],\n        [2., 2., 2.],\n        [2., 2., 2.]])"
     },
     "execution_count": 6,
     "metadata": {},
     "output_type": "execute_result"
    }
   ],
   "source": [
    "a + b"
   ]
  },
  {
   "cell_type": "code",
   "execution_count": 9,
   "metadata": {
    "ExecuteTime": {
     "end_time": "2023-06-11T14:23:40.548471800Z",
     "start_time": "2023-06-11T14:23:40.521507700Z"
    }
   },
   "outputs": [
    {
     "data": {
      "text/plain": "tensor([[2., 2., 2.],\n        [2., 2., 2.],\n        [2., 2., 2.]], device='cuda:0')"
     },
     "execution_count": 9,
     "metadata": {},
     "output_type": "execute_result"
    }
   ],
   "source": [
    "a = a.to('cuda')\n",
    "b = b.to('cuda')\n",
    "a + b"
   ]
  },
  {
   "cell_type": "code",
   "execution_count": 9,
   "outputs": [],
   "source": [],
   "metadata": {
    "collapsed": false,
    "ExecuteTime": {
     "end_time": "2023-06-11T14:23:47.518049100Z",
     "start_time": "2023-06-11T14:23:47.512049100Z"
    }
   }
  },
  {
   "cell_type": "code",
   "execution_count": null,
   "outputs": [],
   "source": [],
   "metadata": {
    "collapsed": false
   }
  }
 ],
 "metadata": {
  "kernelspec": {
   "display_name": "Python 3",
   "language": "python",
   "name": "python3"
  },
  "language_info": {
   "codemirror_mode": {
    "name": "ipython",
    "version": 3
   },
   "file_extension": ".py",
   "mimetype": "text/x-python",
   "name": "python",
   "nbconvert_exporter": "python",
   "pygments_lexer": "ipython3",
   "version": "3.6.6"
  }
 },
 "nbformat": 4,
 "nbformat_minor": 2
}
